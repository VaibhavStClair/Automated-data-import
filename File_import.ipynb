{
 "cells": [
  {
   "cell_type": "code",
   "execution_count": 1,
   "id": "9af09946",
   "metadata": {},
   "outputs": [
    {
     "name": "stdout",
     "output_type": "stream",
     "text": [
      "Requirement already satisfied: beautifulsoup4 in /Users/vee/opt/anaconda3/lib/python3.9/site-packages (4.11.1)\n",
      "Requirement already satisfied: soupsieve>1.2 in /Users/vee/opt/anaconda3/lib/python3.9/site-packages (from beautifulsoup4) (2.3.1)\n",
      "Note: you may need to restart the kernel to use updated packages.\n"
     ]
    }
   ],
   "source": [
    "pip install beautifulsoup4"
   ]
  },
  {
   "cell_type": "code",
   "execution_count": 2,
   "id": "02e2a38e",
   "metadata": {},
   "outputs": [],
   "source": [
    "#Import important libraries\n",
    "import requests\n",
    "from bs4 import BeautifulSoup\n",
    "import os\n",
    "import pandas as pd\n",
    "import warnings\n",
    "warnings.filterwarnings(\"ignore\")\n",
    "pd.set_option('display.max_colwidth', None)"
   ]
  },
  {
   "cell_type": "code",
   "execution_count": 3,
   "id": "0a5608b0",
   "metadata": {},
   "outputs": [],
   "source": [
    "#Import files from website\n",
    "url = \"https://www.cihi.ca/en/nacrs-emergency-department-visits-and-lengths-of-stay\"\n",
    "\n",
    "soup = BeautifulSoup(requests.get(url).content, \"html.parser\")\n",
    "i = 0\n",
    "URL =[]\n",
    "for link in soup.select('a[href*=\".xls\"]'):\n",
    "    if i <3:\n",
    "        URL.append(link[\"href\"])\n",
    "        i+=1"
   ]
  },
  {
   "cell_type": "code",
   "execution_count": 4,
   "id": "74bf08da",
   "metadata": {},
   "outputs": [],
   "source": [
    "#Store files in directory\n",
    "resp =[]\n",
    "for i in range(len(URL)):\n",
    "    resp.append(requests.get(URL[i]))\n",
    "    with open(f'File{i}.xlsx', 'wb') as output:\n",
    "        output.write(resp[i].content)"
   ]
  },
  {
   "cell_type": "code",
   "execution_count": 5,
   "id": "109f2bf5",
   "metadata": {},
   "outputs": [
    {
     "data": {
      "text/plain": [
       "'/Users/vee/Desktop/Course outline/Fall 2022/Dab 304 - Healthcare/project'"
      ]
     },
     "execution_count": 5,
     "metadata": {},
     "output_type": "execute_result"
    }
   ],
   "source": [
    "#get path of current directory\n",
    "path = os.getcwd()\n",
    "files = os.listdir(path)\n",
    "path"
   ]
  },
  {
   "cell_type": "code",
   "execution_count": 6,
   "id": "6a841f22",
   "metadata": {},
   "outputs": [
    {
     "data": {
      "text/plain": [
       "['FRom year 2019-2020 and 2020-2021.xlsx',\n",
       " 'File0.xlsx',\n",
       " 'File1.xlsx',\n",
       " 'File2.xlsx',\n",
       " 'Data from 2003-2021.xlsx',\n",
       " 'Visit from April 2021- March 2022.xlsx']"
      ]
     },
     "execution_count": 6,
     "metadata": {},
     "output_type": "execute_result"
    }
   ],
   "source": [
    "#Get the names of excel files in directory\n",
    "files_xls = [f for f in files if f[-5:] == '.xlsx']\n",
    "files_xls"
   ]
  },
  {
   "cell_type": "code",
   "execution_count": 7,
   "id": "07ead464",
   "metadata": {},
   "outputs": [],
   "source": [
    "#function to retrieve the files\n",
    "from openpyxl import load_workbook\n",
    "\n",
    "def get_sheetnames_xlsx(filepath):\n",
    "    wb = load_workbook(filepath, read_only=True, keep_links=False)\n",
    "    return wb.sheetnames"
   ]
  },
  {
   "cell_type": "code",
   "execution_count": 8,
   "id": "47f4f1dd",
   "metadata": {},
   "outputs": [],
   "source": [
    "#Retreiving the sheet names from each file\n",
    "sheets_name=[]\n",
    "for i in range(len(files_xls)):\n",
    "    sheets_name.append(get_sheetnames_xlsx(files_xls[i]))"
   ]
  },
  {
   "cell_type": "code",
   "execution_count": 9,
   "id": "4482bb06",
   "metadata": {},
   "outputs": [
    {
     "data": {
      "text/plain": [
       "[['Coverage by provience',\n",
       "  'Provience wise mean length',\n",
       "  'ADMITTED OR NOT BASED ON LEVEL',\n",
       "  'Visit based on hospital',\n",
       "  'Based on age',\n",
       "  'main problem',\n",
       "  'five year trend',\n",
       "  'Registration time',\n",
       "  'Day of registration',\n",
       "  'Age Based'],\n",
       " ['ED Visits, 2021–2022',\n",
       "  'Notes to readers',\n",
       "  'Table of contents',\n",
       "  '1 ED visits, LOS',\n",
       "  '2 ED visits, month, age and sex',\n",
       "  '3 Top 10 main problems'],\n",
       " ['ED Visits, 2020–2021',\n",
       "  'Notes to readers',\n",
       "  'Table of contents',\n",
       "  '1 Coverage',\n",
       "  '2 LOS by PT ',\n",
       "  '3 LOS by CTAS and admitted',\n",
       "  '4 Visits and LOS by peer hosp',\n",
       "  '5 Visits and LOS by age grp ',\n",
       "  '6 Top 10 main problems',\n",
       "  '7 5-year trend — Admit LOS',\n",
       "  '8 Reg time — Admit LOS',\n",
       "  '9 Reg day — Admit LOS ',\n",
       "  '10 Age breakdown — Admit LOS'],\n",
       " ['Emergency Department Visits',\n",
       "  'Notes to readers',\n",
       "  'Table of contents',\n",
       "  '1 ED visits',\n",
       "  '2 Visit disposition',\n",
       "  '3 Triage level',\n",
       "  '4 Main problem',\n",
       "  '5 Age and sex'],\n",
       " ['Visit based on reason',\n",
       "  'visit disposition and age',\n",
       "  'visit  triage level nd age',\n",
       "  'visit main problem nd AGE',\n",
       "  'Age and sex Visit'],\n",
       " ['Visit by provience and Level',\n",
       "  'Visit on age group',\n",
       "  'Main reason of visit']]"
      ]
     },
     "execution_count": 9,
     "metadata": {},
     "output_type": "execute_result"
    }
   ],
   "source": [
    "#displaying all the retrieved sheets\n",
    "flat_list = [item for sublist in sheets_name for item in sublist]\n",
    "sheets_name"
   ]
  },
  {
   "cell_type": "code",
   "execution_count": 10,
   "id": "dafad342",
   "metadata": {},
   "outputs": [],
   "source": [
    "#function to store the data in dictionary\n",
    "def importing_data(files_xls):\n",
    "    data={}\n",
    "    for i in range(len(files_xls)):\n",
    "        data[i] = pd.read_excel(path+'/'+files_xls[i], sheets_name[i],index_col=0, skiprows = range(0,3))\n",
    "    return data"
   ]
  },
  {
   "cell_type": "code",
   "execution_count": 11,
   "id": "df79a9cc",
   "metadata": {},
   "outputs": [],
   "source": [
    "#storing data in data object\n",
    "data = importing_data(files_xls)"
   ]
  },
  {
   "cell_type": "code",
   "execution_count": 12,
   "id": "627c788b",
   "metadata": {},
   "outputs": [
    {
     "data": {
      "text/html": [
       "<div>\n",
       "<style scoped>\n",
       "    .dataframe tbody tr th:only-of-type {\n",
       "        vertical-align: middle;\n",
       "    }\n",
       "\n",
       "    .dataframe tbody tr th {\n",
       "        vertical-align: top;\n",
       "    }\n",
       "\n",
       "    .dataframe thead th {\n",
       "        text-align: right;\n",
       "    }\n",
       "</style>\n",
       "<table border=\"1\" class=\"dataframe\">\n",
       "  <thead>\n",
       "    <tr style=\"text-align: right;\">\n",
       "      <th></th>\n",
       "    </tr>\n",
       "    <tr>\n",
       "      <th>Table 3  Top 10 main problems* — Number of ED visits, length of stay (LOS) and percentage of admitted and \n",
       "non-admitted cases in the ED, NACRS, April 2021 to March 2022</th>\n",
       "    </tr>\n",
       "  </thead>\n",
       "  <tbody>\n",
       "    <tr>\n",
       "      <th>End of worksheet</th>\n",
       "    </tr>\n",
       "  </tbody>\n",
       "</table>\n",
       "</div>"
      ],
      "text/plain": [
       "Empty DataFrame\n",
       "Columns: []\n",
       "Index: [End of worksheet]"
      ]
     },
     "execution_count": 12,
     "metadata": {},
     "output_type": "execute_result"
    }
   ],
   "source": [
    "# type(data)\n",
    "data[1][sheets_name[2][2]]"
   ]
  },
  {
   "cell_type": "code",
   "execution_count": 14,
   "id": "9972908e",
   "metadata": {},
   "outputs": [],
   "source": [
    "#Exporting all the sheets to csv format\n",
    "for i in range(len(files_xls)):\n",
    "    for s in range(len(sheets_name[i])):\n",
    "        data[i][sheets_name[i][s]].\\\n",
    "        to_csv(f'/Users/vee/Desktop/Course outline/Fall 2022/Dab 304 - Healthcare/project/{sheets_name[i][s]}.csv', sep=',',encoding='utf-8-sig')"
   ]
  },
  {
   "cell_type": "code",
   "execution_count": null,
   "id": "db0fd851",
   "metadata": {},
   "outputs": [],
   "source": []
  }
 ],
 "metadata": {
  "kernelspec": {
   "display_name": "Python 3 (ipykernel)",
   "language": "python",
   "name": "python3"
  },
  "language_info": {
   "codemirror_mode": {
    "name": "ipython",
    "version": 3
   },
   "file_extension": ".py",
   "mimetype": "text/x-python",
   "name": "python",
   "nbconvert_exporter": "python",
   "pygments_lexer": "ipython3",
   "version": "3.9.12"
  }
 },
 "nbformat": 4,
 "nbformat_minor": 5
}
